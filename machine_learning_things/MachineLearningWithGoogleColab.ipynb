{
  "nbformat": 4,
  "nbformat_minor": 0,
  "metadata": {
    "colab": {
      "provenance": [],
      "authorship_tag": "ABX9TyNoMlpk7JoOd+I1LjQSyfPr",
      "include_colab_link": true
    },
    "kernelspec": {
      "name": "python3",
      "display_name": "Python 3"
    },
    "language_info": {
      "name": "python"
    }
  },
  "cells": [
    {
      "cell_type": "markdown",
      "metadata": {
        "id": "view-in-github",
        "colab_type": "text"
      },
      "source": [
        "<a href=\"https://colab.research.google.com/github/VinGuar/NBAStatsAndPredictions/blob/testing/MachineLearningWithGoogleColab.ipynb\" target=\"_parent\"><img src=\"https://colab.research.google.com/assets/colab-badge.svg\" alt=\"Open In Colab\"/></a>"
      ]
    },
    {
      "cell_type": "code",
      "source": [
        "#importing all things needed\n",
        "import pandas as pd\n",
        "from sklearn.model_selection import TimeSeriesSplit\n",
        "from sklearn.feature_selection import SequentialFeatureSelector\n",
        "from sklearn.linear_model import Ridge\n",
        "from sklearn.preprocessing import MinMaxScaler\n",
        "from sklearn.model_selection import GridSearchCV\n",
        "import numpy as np\n",
        "#scaler to scale data\n",
        "scaler = MinMaxScaler()\n"
      ],
      "metadata": {
        "id": "HcQOmxq5p1oC"
      },
      "execution_count": 1,
      "outputs": []
    },
    {
      "cell_type": "code",
      "execution_count": 2,
      "metadata": {
        "id": "SEmbBB4phZjG"
      },
      "outputs": [],
      "source": [
        "#reads the data \n",
        "dfold = pd.read_csv(\"player12131415.csv\")\n",
        "dfnew = pd.read_csv(\"player161718.csv\")\n",
        "\n",
        "#makes a frame of both and drops rows with NA\n",
        "frames = [dfold, dfnew]\n",
        "allPlayer1 = pd.concat(frames)\n",
        "allPlayer1 = allPlayer1.dropna()\n",
        "\n",
        "#only includes players with over 24 minutes to have accurate data and then makes it so it only has columns needed\n",
        "mask1 = (allPlayer1['playMin'] > 24)\n",
        "allPlayer = allPlayer1.loc[mask1]\n",
        "allPlayer = allPlayer[['teamRslt', 'playPos', \"playPTS\", \"playAST\", \"playTO\", \"playSTL\", \"playBLK\", \"playPF\",\"playFGA\", \"playFGM\", \"play2PA\", \"play2PM\", \"play3PA\", \"play3PM\", \"playFTA\", \"playFTM\", \"playTRB\"]]\n"
      ]
    },
    {
      "cell_type": "code",
      "source": [
        "#this cell makes it so only data from specific position is in the dataframe for later. Then drops position column\n",
        "#Then it resets index and changes wins/losses to 1 and 0 and finally scales frame.\n",
        "def makePos(pos):\n",
        "  mask = allPlayer['playPos'] == pos\n",
        "  temp = allPlayer.loc[mask]\n",
        "  temp = temp.drop(labels=\"playPos\", axis=1, inplace = False)\n",
        "  temp = temp.reset_index() \n",
        "  temp = temp.drop(labels=\"index\", axis=1, inplace = False)\n",
        "  temp['teamRslt'] = temp['teamRslt'].map({'Win': 1, 'Loss': 0})\n",
        "  temp[temp.columns] = scaler.fit_transform(temp[temp.columns])\n",
        "\n",
        "  return temp"
      ],
      "metadata": {
        "id": "wGTnnH_iqBSA"
      },
      "execution_count": 3,
      "outputs": []
    },
    {
      "cell_type": "code",
      "source": [
        "#this cell is where the main machine learning is done\n",
        "def findFeatures(df, alp):\n",
        "  #finds the predictors that will be used for stats.\n",
        "  selectedFeatures = list(df)\n",
        "  selectedFeatures.remove(\"teamRslt\")\n",
        "  predictors = df.columns[df.columns.isin(selectedFeatures)]\n",
        "\n",
        "  #machine learning using ridge regression, and then finds coefficients\n",
        "  mod = Ridge(alpha=alp)\n",
        "  mod.fit(df[predictors], df[\"teamRslt\"])\n",
        "  coeffs = mod.coef_\n",
        "\n",
        "  #makes dictionary of coefficients of each stat and sorts. These coefficients are mainly what I wanted.\n",
        "  coeffsDict = dict(zip(predictors, coeffs))\n",
        "  coeffsDict = sorted(coeffsDict.items(), key=lambda x:x[1])\n",
        "\n",
        "\n",
        "  return coeffsDict\n"
      ],
      "metadata": {
        "id": "9dUUDfbir1Kw"
      },
      "execution_count": 4,
      "outputs": []
    },
    {
      "cell_type": "code",
      "source": [
        "#This cell is just finding the best alpha to be used, which ended up being 1.\n",
        "def alphaSelect(df):\n",
        "\n",
        "  y = df[\"teamRslt\"]\n",
        "  x = df.drop(labels=\"teamRslt\", axis=1, inplace = False)\n",
        "\n",
        "  model = Ridge()\n",
        "\n",
        "  param = {'alpha': [0.001, 0.01, 0.1, 1, 10, 100, 1000]}\n",
        "\n",
        "  grid = GridSearchCV(model, param, cv=5)\n",
        "  grid.fit(x, y)\n",
        "\n",
        "  return grid.best_params_['alpha']\n",
        "\n",
        "\n"
      ],
      "metadata": {
        "id": "YLFZy1Fq6jMZ"
      },
      "execution_count": 5,
      "outputs": []
    },
    {
      "cell_type": "code",
      "source": [
        "#Getting stats with coefficients for PG\n",
        "pointG = makePos(\"PG\")\n",
        "paramPG = alphaSelect(pointG)\n",
        "predPG = findFeatures(pointG, paramPG)"
      ],
      "metadata": {
        "id": "WgrYXhF0r2tC"
      },
      "execution_count": 6,
      "outputs": []
    },
    {
      "cell_type": "code",
      "source": [
        "#Getting stats with coefficients for SG\n",
        "shootingG = makePos(\"SG\")\n",
        "paramSG = alphaSelect(shootingG)\n",
        "predSG = findFeatures(shootingG, paramSG)"
      ],
      "metadata": {
        "id": "j_3sK53NWFb8"
      },
      "execution_count": 7,
      "outputs": []
    },
    {
      "cell_type": "code",
      "source": [
        "#Getting stats with coefficients for SF\n",
        "smallF = makePos(\"SF\")\n",
        "paramSF = alphaSelect(smallF)\n",
        "predSF = findFeatures(smallF, paramSF)"
      ],
      "metadata": {
        "id": "_mvNSdvMWFYN"
      },
      "execution_count": 8,
      "outputs": []
    },
    {
      "cell_type": "code",
      "source": [
        "#Getting stats with coefficients for PF\n",
        "powerF = makePos(\"PF\")\n",
        "paramPF = alphaSelect(powerF)\n",
        "predPF = findFeatures(powerF, paramPF)"
      ],
      "metadata": {
        "id": "b6T9TQG0WFS-"
      },
      "execution_count": 9,
      "outputs": []
    },
    {
      "cell_type": "code",
      "source": [
        "#Getting stats with coefficients for C\n",
        "center = makePos(\"C\")\n",
        "paramC = alphaSelect(center)\n",
        "predC = findFeatures(center, paramC)"
      ],
      "metadata": {
        "id": "-eUTTW3pWFLD"
      },
      "execution_count": 10,
      "outputs": []
    },
    {
      "cell_type": "code",
      "source": [
        "#The actual coefficients for PG. Negative ones imply a loss, and positive imply win. \n",
        "#The higher the absolute value of coefficient the more predictive it is of win or loss\n",
        "predPG\n"
      ],
      "metadata": {
        "colab": {
          "base_uri": "https://localhost:8080/"
        },
        "id": "OHEd4w5dV0zh",
        "outputId": "ea27fadc-d8e3-48b4-b323-54a35beebfe1"
      },
      "execution_count": 11,
      "outputs": [
        {
          "output_type": "execute_result",
          "data": {
            "text/plain": [
              "[('playFGA', -0.6041518924268755),\n",
              " ('play2PA', -0.5817563323153516),\n",
              " ('playFTA', -0.3978786078978085),\n",
              " ('play3PA', -0.35805094568665435),\n",
              " ('playTO', -0.30083741720748036),\n",
              " ('playPF', -0.2120115066906476),\n",
              " ('playBLK', 0.1496326164504983),\n",
              " ('play2PM', 0.1633828915566688),\n",
              " ('playSTL', 0.2380367995743921),\n",
              " ('playTRB', 0.33332406613842364),\n",
              " ('playFGM', 0.38022183452751585),\n",
              " ('play3PM', 0.38798203669720305),\n",
              " ('playAST', 0.4311028079096736),\n",
              " ('playFTM', 0.4737587834148403),\n",
              " ('playPTS', 0.5002416735349465)]"
            ]
          },
          "metadata": {},
          "execution_count": 11
        }
      ]
    },
    {
      "cell_type": "code",
      "source": [
        "#The actual coefficients for SG. Negative ones imply a loss, and positive imply win. \n",
        "#The higher the absolute value of coefficient the more predictive it is of win or loss\n",
        "predSG"
      ],
      "metadata": {
        "colab": {
          "base_uri": "https://localhost:8080/"
        },
        "id": "7gNBTJjHV9W4",
        "outputId": "0b03dd91-2a7c-4192-d73b-96cc4fc76580"
      },
      "execution_count": 15,
      "outputs": [
        {
          "output_type": "execute_result",
          "data": {
            "text/plain": [
              "[('playFGA', -0.545613383596639),\n",
              " ('play3PA', -0.42511175850290206),\n",
              " ('play2PA', -0.3944754557695734),\n",
              " ('playTO', -0.3802723565114156),\n",
              " ('playFTA', -0.334015143594086),\n",
              " ('playPF', -0.18794302958516174),\n",
              " ('playSTL', 0.20677721449065647),\n",
              " ('playBLK', 0.21212180798089755),\n",
              " ('playTRB', 0.22596688506464213),\n",
              " ('play2PM', 0.2280612752318785),\n",
              " ('play3PM', 0.388046937769855),\n",
              " ('playAST', 0.38988739549638984),\n",
              " ('playFGM', 0.3987437747447201),\n",
              " ('playFTM', 0.40649217586804715),\n",
              " ('playPTS', 0.4395938153652634)]"
            ]
          },
          "metadata": {},
          "execution_count": 15
        }
      ]
    },
    {
      "cell_type": "code",
      "source": [
        "#The actual coefficients for SF. Negative ones imply a loss, and positive imply win. \n",
        "#The higher the absolute value of coefficient the more predictive it is of win or loss\n",
        "predSF"
      ],
      "metadata": {
        "colab": {
          "base_uri": "https://localhost:8080/"
        },
        "id": "8wc_uDgcWOvw",
        "outputId": "6652a7e8-9a3f-4033-d541-c1126f06b0a7"
      },
      "execution_count": 14,
      "outputs": [
        {
          "output_type": "execute_result",
          "data": {
            "text/plain": [
              "[('play2PA', -0.6789656212548303),\n",
              " ('playFGA', -0.5398153263626682),\n",
              " ('playFTA', -0.32973388684884714),\n",
              " ('play3PA', -0.31532369907040514),\n",
              " ('playTO', -0.28720966537461357),\n",
              " ('playPF', -0.18689402527665935),\n",
              " ('playSTL', 0.21625507765439278),\n",
              " ('playBLK', 0.22130782402360266),\n",
              " ('play3PM', 0.25980838501071185),\n",
              " ('play2PM', 0.2811287790976505),\n",
              " ('playTRB', 0.3245960707766622),\n",
              " ('playFGM', 0.3696429657024721),\n",
              " ('playFTM', 0.4242212872038444),\n",
              " ('playAST', 0.4430524129368052),\n",
              " ('playPTS', 0.46668594501467564)]"
            ]
          },
          "metadata": {},
          "execution_count": 14
        }
      ]
    },
    {
      "cell_type": "code",
      "source": [
        "#The actual coefficients for PF. Negative ones imply a loss, and positive imply win. \n",
        "#The higher the absolute value of coefficient the more predictive it is of win or loss\n",
        "predPF"
      ],
      "metadata": {
        "colab": {
          "base_uri": "https://localhost:8080/"
        },
        "id": "L5ELjhEmWQ3k",
        "outputId": "44975290-67ac-4cce-fdbd-96565b21fee3"
      },
      "execution_count": 13,
      "outputs": [
        {
          "output_type": "execute_result",
          "data": {
            "text/plain": [
              "[('playFGA', -0.47848160638654863),\n",
              " ('play2PA', -0.40517846771147875),\n",
              " ('playFTA', -0.3380128078041573),\n",
              " ('play3PA', -0.2363215785476092),\n",
              " ('playTO', -0.23059669817117978),\n",
              " ('playPF', -0.15199871346013683),\n",
              " ('playSTL', 0.09783137624084995),\n",
              " ('playTRB', 0.23370072750688123),\n",
              " ('playBLK', 0.24844339785159317),\n",
              " ('play3PM', 0.2716967358938224),\n",
              " ('play2PM', 0.28145503945232325),\n",
              " ('playFGM', 0.35988672879187833),\n",
              " ('playFTM', 0.36285419430181237),\n",
              " ('playAST', 0.4220211161024841),\n",
              " ('playPTS', 0.46338596076923094)]"
            ]
          },
          "metadata": {},
          "execution_count": 13
        }
      ]
    },
    {
      "cell_type": "code",
      "source": [
        "#The actual coefficients for C. Negative ones imply a loss, and positive imply win. \n",
        "#The higher the absolute value of coefficient the more predictive it is of win or loss\n",
        "predC"
      ],
      "metadata": {
        "colab": {
          "base_uri": "https://localhost:8080/"
        },
        "id": "94pLkPflWTCs",
        "outputId": "16bb1cc4-eb7b-4a11-a945-238f62563407"
      },
      "execution_count": 12,
      "outputs": [
        {
          "output_type": "execute_result",
          "data": {
            "text/plain": [
              "[('playFGA', -0.4516003074885281),\n",
              " ('play3PA', -0.36150580372989805),\n",
              " ('play2PA', -0.32166653757477376),\n",
              " ('playTO', -0.25044110608202164),\n",
              " ('playPF', -0.06384746359282258),\n",
              " ('playFTA', 0.0005284484097624423),\n",
              " ('playSTL', 0.07939236919636329),\n",
              " ('playFTM', 0.13010716287939678),\n",
              " ('play2PM', 0.23006080401929851),\n",
              " ('playTRB', 0.2438799792877528),\n",
              " ('play3PM', 0.2748369907538867),\n",
              " ('playFGM', 0.310717857888903),\n",
              " ('playPTS', 0.3254765721176555),\n",
              " ('playBLK', 0.35985115572314524),\n",
              " ('playAST', 0.3785108251385527)]"
            ]
          },
          "metadata": {},
          "execution_count": 12
        }
      ]
    },
    {
      "cell_type": "code",
      "source": [],
      "metadata": {
        "id": "KMNIcA6RUtTy"
      },
      "execution_count": null,
      "outputs": []
    }
  ]
}